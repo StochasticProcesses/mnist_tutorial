{
 "cells": [
  {
   "cell_type": "markdown",
   "metadata": {},
   "source": [
    "# Pytorch Tutorial"
   ]
  },
  {
   "cell_type": "markdown",
   "metadata": {},
   "source": [
    "Pytorch is a popular deep learning framework and it's easy to get started."
   ]
  },
  {
   "cell_type": "code",
   "execution_count": 134,
   "metadata": {
    "collapsed": true
   },
   "outputs": [],
   "source": [
    "import torch\n",
    "import torch.nn as nn\n",
    "import torch.utils.data as data\n",
    "import torchvision\n",
    "import torchvision.transforms as transforms\n",
    "from tqdm import tqdm\n",
    "import time\n",
    "\n",
    "BATCH_SIZE = 128\n",
    "NUM_EPOCHS = 10"
   ]
  },
  {
   "cell_type": "markdown",
   "metadata": {},
   "source": [
    "First, we read the mnist data, preprocess them and encapsulate them into dataloader form."
   ]
  },
  {
   "cell_type": "code",
   "execution_count": 135,
   "metadata": {
    "collapsed": true
   },
   "outputs": [],
   "source": [
    "# preprocessing\n",
    "normalize = transforms.Normalize(mean=[.5], std=[.5])\n",
    "transform = transforms.Compose([transforms.ToTensor(), normalize])\n",
    "\n",
    "# download and load the data\n",
    "train_dataset = torchvision.datasets.MNIST(root='./mnist/', train=True, transform=transform, download=True)\n",
    "test_dataset = torchvision.datasets.MNIST(root='./mnist/', train=False, transform=transform, download=False)\n",
    "\n",
    "# encapsulate them into dataloader form\n",
    "train_loader = data.DataLoader(train_dataset, batch_size=BATCH_SIZE, shuffle=True, drop_last=True)\n",
    "test_loader = data.DataLoader(test_dataset, batch_size=BATCH_SIZE, shuffle=False, drop_last=True)"
   ]
  },
  {
   "cell_type": "markdown",
   "metadata": {},
   "source": [
    "Then, we define the model, object function and optimizer that we use to classify."
   ]
  },
  {
   "cell_type": "code",
   "execution_count": 136,
   "metadata": {
    "collapsed": true,
    "tags": []
   },
   "outputs": [],
   "source": [
    "class SimpleNet(nn.Module):\n",
    "# TODO:define model\n",
    "    def __init__(self):\n",
    "        super(SimpleNet, self).__init__()\n",
    "        self.conv1 = nn.Sequential(\n",
    "            nn.Conv2d(1, 6, 5),\n",
    "            nn.ReLU(),\n",
    "            nn.MaxPool2d(2, 2)\n",
    "        )\n",
    "        self.conv2 = nn.Sequential(\n",
    "            nn.Conv2d(6, 16, 5),\n",
    "            nn.ReLU(),\n",
    "            nn.MaxPool2d(2, 2)\n",
    "        )\n",
    "        self.fc1 = nn.Sequential(\n",
    "            nn.Linear(16 * 4 * 4, 128),\n",
    "            nn.ReLU(),\n",
    "            nn.Dropout2d(p=0.3)\n",
    "        )\n",
    "        #self.fc2 = nn.Sequential(\n",
    "        #    nn.Linear(120, 84),\n",
    "        #    nn.ReLU(),\n",
    "        #    nn.Dropout2d(p=0.3)\n",
    "        #)\n",
    "        self.fc3 = nn.Sequential(\n",
    "            nn.Linear(128, 10)\n",
    "        )\n",
    "    \n",
    "    def forward(self, x):\n",
    "        x = self.conv1(x)\n",
    "        x = self.conv2(x)\n",
    "        x = torch.flatten(x, 1)\n",
    "        x = self.fc1(x)\n",
    "        #x = self.fc2(x)\n",
    "        x = self.fc3(x)\n",
    "        return x\n",
    "\n",
    "model = SimpleNet()\n",
    "\n",
    "# TODO:define loss function and optimiter\n",
    "criterion = nn.CrossEntropyLoss()\n",
    "optimizer = torch.optim.Adam(model.parameters(),lr=1e-3)\n",
    "#optimizer = torch.optim.SGD(model.parameters(),lr=0.1)\n",
    "#optimizer = torch.optim.SGD(model.parameters(), lr=0.01, momentum=0.9)"
   ]
  },
  {
   "cell_type": "markdown",
   "metadata": {},
   "source": [
    "Next, we can start to train and evaluate!"
   ]
  },
  {
   "cell_type": "code",
   "execution_count": 139,
   "metadata": {
    "collapsed": true,
    "scrolled": true,
    "tags": []
   },
   "outputs": [
    {
     "output_type": "stream",
     "name": "stderr",
     "text": [
      "100%|██████████| 468/468 [00:10<00:00, 43.49it/s]\n",
      "100%|██████████| 468/468 [00:07<00:00, 58.53it/s]\n",
      " 15%|█▌        | 12/78 [00:00<00:01, 59.68it/s]Training loss: 20.3320, Training accuracy: 98.50%\n",
      "100%|██████████| 78/78 [00:01<00:00, 56.11it/s]\n",
      "  1%|          | 5/468 [00:00<00:10, 43.47it/s]Testing loss: 3.5973, Testing accuracy: 98.29%\n",
      "100%|██████████| 468/468 [00:10<00:00, 43.60it/s]\n",
      "100%|██████████| 468/468 [00:07<00:00, 60.75it/s]\n",
      "  9%|▉         | 7/78 [00:00<00:01, 62.49it/s]Training loss: 18.1529, Training accuracy: 98.68%\n",
      "100%|██████████| 78/78 [00:01<00:00, 61.59it/s]\n",
      "  1%|          | 5/468 [00:00<00:10, 46.29it/s]Testing loss: 3.8095, Testing accuracy: 98.19%\n",
      "100%|██████████| 468/468 [00:10<00:00, 42.76it/s]\n",
      "100%|██████████| 468/468 [00:08<00:00, 57.40it/s]\n",
      " 17%|█▋        | 13/78 [00:00<00:01, 60.96it/s]Training loss: 16.0306, Training accuracy: 98.78%\n",
      "100%|██████████| 78/78 [00:01<00:00, 58.79it/s]\n",
      "  1%|          | 5/468 [00:00<00:10, 43.47it/s]Testing loss: 3.1504, Testing accuracy: 98.52%\n",
      "100%|██████████| 468/468 [00:10<00:00, 43.96it/s]\n",
      "100%|██████████| 468/468 [00:07<00:00, 60.61it/s]\n",
      "  8%|▊         | 6/78 [00:00<00:01, 55.54it/s]Training loss: 12.8484, Training accuracy: 98.99%\n",
      "100%|██████████| 78/78 [00:01<00:00, 59.57it/s]\n",
      "  1%|          | 5/468 [00:00<00:11, 42.01it/s]Testing loss: 3.5002, Testing accuracy: 98.55%\n",
      "100%|██████████| 468/468 [00:10<00:00, 44.04it/s]\n",
      "100%|██████████| 468/468 [00:07<00:00, 59.63it/s]\n",
      "  9%|▉         | 7/78 [00:00<00:01, 61.38it/s]Training loss: 12.4601, Training accuracy: 99.01%\n",
      "100%|██████████| 78/78 [00:01<00:00, 57.11it/s]\n",
      "  1%|          | 5/468 [00:00<00:10, 42.36it/s]Testing loss: 3.2876, Testing accuracy: 98.57%\n",
      "100%|██████████| 468/468 [00:10<00:00, 42.99it/s]\n",
      "100%|██████████| 468/468 [00:07<00:00, 60.25it/s]\n",
      "  8%|▊         | 6/78 [00:00<00:01, 59.99it/s]Training loss: 10.4021, Training accuracy: 99.13%\n",
      "100%|██████████| 78/78 [00:01<00:00, 60.57it/s]\n",
      "  1%|          | 5/468 [00:00<00:10, 43.85it/s]Testing loss: 3.2648, Testing accuracy: 98.68%\n",
      "100%|██████████| 468/468 [00:10<00:00, 43.80it/s]\n",
      "100%|██████████| 468/468 [00:07<00:00, 59.22it/s]\n",
      "  9%|▉         | 7/78 [00:00<00:01, 63.05it/s]Training loss: 10.3540, Training accuracy: 99.10%\n",
      "100%|██████████| 78/78 [00:01<00:00, 59.23it/s]\n",
      "  1%|          | 5/468 [00:00<00:10, 44.24it/s]Testing loss: 3.5418, Testing accuracy: 98.42%\n",
      "100%|██████████| 468/468 [00:10<00:00, 44.07it/s]\n",
      "100%|██████████| 468/468 [00:07<00:00, 60.77it/s]\n",
      "  9%|▉         | 7/78 [00:00<00:01, 62.48it/s]Training loss: 9.1572, Training accuracy: 99.21%\n",
      "100%|██████████| 78/78 [00:01<00:00, 61.81it/s]\n",
      "  1%|          | 5/468 [00:00<00:10, 44.24it/s]Testing loss: 3.0300, Testing accuracy: 98.67%\n",
      "100%|██████████| 468/468 [00:10<00:00, 44.01it/s]\n",
      "100%|██████████| 468/468 [00:07<00:00, 59.37it/s]\n",
      " 17%|█▋        | 13/78 [00:00<00:01, 60.41it/s]Training loss: 8.7899, Training accuracy: 99.24%\n",
      "100%|██████████| 78/78 [00:01<00:00, 52.72it/s]\n",
      "  1%|          | 4/468 [00:00<00:12, 37.37it/s]Testing loss: 3.0755, Testing accuracy: 98.66%\n",
      "100%|██████████| 468/468 [00:11<00:00, 39.03it/s]\n",
      "100%|██████████| 468/468 [00:07<00:00, 59.63it/s]\n",
      "  8%|▊         | 6/78 [00:00<00:01, 58.24it/s]Training loss: 7.4414, Training accuracy: 99.35%\n",
      "100%|██████████| 78/78 [00:01<00:00, 58.75it/s]Testing loss: 2.8074, Testing accuracy: 98.73%\n",
      "\n"
     ]
    }
   ],
   "source": [
    "# train and evaluate\n",
    "for epoch in range(NUM_EPOCHS):\n",
    "    for images, labels in tqdm(train_loader):\n",
    "        # TODO:forward + backward + optimize\n",
    "        optimizer.zero_grad()\n",
    "        outputs = model(images)\n",
    "        loss = criterion(outputs, labels)\n",
    "        loss.backward()\n",
    "        optimizer.step()\n",
    "        \n",
    "    # evaluate\n",
    "    # TODO:calculate the accuracy using traning and testing dataset\n",
    "    with torch.no_grad():\n",
    "        true_preds = 0\n",
    "        train_loss = 0\n",
    "        for images, labels in tqdm(train_loader):\n",
    "            outputs = model(images)\n",
    "            train_preds = torch.max(outputs.data, 1)[1]\n",
    "            train_loss += criterion(outputs, labels)\n",
    "            true_preds += (train_preds == labels).sum()\n",
    "        print('Training loss: %.4f, Training accuracy: %.2f%%' % (train_loss, 100 * true_preds / len(train_loader.dataset)))\n",
    "        true_preds = 0\n",
    "        test_loss = 0\n",
    "        for images, labels in tqdm(test_loader):\n",
    "            outputs = model(images)\n",
    "            test_preds = torch.max(outputs.data, 1)[1]\n",
    "            test_loss += criterion(outputs, labels)\n",
    "            true_preds += (test_preds == labels).sum()\n",
    "        print('Testing loss: %.4f, Testing accuracy: %.2f%%' % (test_loss, 100 * true_preds / len(test_loader.dataset)))"
   ]
  },
  {
   "cell_type": "markdown",
   "metadata": {},
   "source": [
    "#### Q5:\n",
    "Please print the training and testing accuracy."
   ]
  },
  {
   "cell_type": "code",
   "execution_count": 142,
   "metadata": {},
   "outputs": [
    {
     "output_type": "stream",
     "name": "stderr",
     "text": [
      "100%|██████████| 468/468 [00:08<00:00, 56.73it/s]\n",
      "  8%|▊         | 6/78 [00:00<00:01, 54.37it/s]\n",
      "Training loss: 7.8349, Training accuracy: 99.30%\n",
      "100%|██████████| 78/78 [00:01<00:00, 53.80it/s]\n",
      "Testing loss: 3.0242, Testing accuracy: 98.65%\n",
      "\n"
     ]
    }
   ],
   "source": [
    "true_preds = 0\n",
    "train_loss = 0\n",
    "for images, labels in tqdm(train_loader):\n",
    "    outputs = model(images)\n",
    "    train_preds = torch.max(outputs.data, 1)[1]\n",
    "    train_loss += criterion(outputs, labels)\n",
    "    true_preds += (train_preds == labels).sum()\n",
    "print('\\nTraining loss: %.4f, Training accuracy: %.2f%%' % (train_loss, 100 * true_preds / len(train_loader.dataset)))\n",
    "\n",
    "true_preds = 0\n",
    "test_loss = 0\n",
    "for images, labels in tqdm(test_loader):\n",
    "    outputs = model(images)\n",
    "    test_preds = torch.max(outputs.data, 1)[1]\n",
    "    test_loss += criterion(outputs, labels)\n",
    "    true_preds += (test_preds == labels).sum()\n",
    "print('\\nTesting loss: %.4f, Testing accuracy: %.2f%%' % (test_loss, 100 * true_preds / len(test_loader.dataset)))"
   ]
  },
  {
   "cell_type": "code",
   "execution_count": null,
   "metadata": {},
   "outputs": [],
   "source": []
  }
 ],
 "metadata": {
  "kernelspec": {
   "display_name": "Python 3",
   "language": "python",
   "name": "python3"
  },
  "language_info": {
   "codemirror_mode": {
    "name": "ipython",
    "version": 3
   },
   "file_extension": ".py",
   "mimetype": "text/x-python",
   "name": "python",
   "nbconvert_exporter": "python",
   "pygments_lexer": "ipython3",
   "version": "3.8.5"
  }
 },
 "nbformat": 4,
 "nbformat_minor": 2
}